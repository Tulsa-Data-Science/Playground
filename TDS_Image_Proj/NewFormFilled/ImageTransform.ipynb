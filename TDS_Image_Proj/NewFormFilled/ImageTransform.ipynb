{
 "cells": [
  {
   "cell_type": "markdown",
   "metadata": {},
   "source": [
    "# ImageTransform.ipynb\n",
    "\n",
    "### This does a perspective transform to convert the useful part of the scanned image into a new square image that can be divided into even cells."
   ]
  },
  {
   "cell_type": "code",
   "execution_count": null,
   "metadata": {},
   "outputs": [],
   "source": [
    "# import all the modules we need - install opencv with: conda install -n <ENV> opencv\n",
    "import cv2\n",
    "import numpy as np\n",
    "import os\n",
    "from matplotlib import pyplot as plt\n",
    "\n",
    "# location of the TDS images on disk - change this to match your system!\n",
    "IMAGE_DIR = '/home/jaeger/dev/github.com/tds/Playground/TDS_Image_Proj/images'"
   ]
  },
  {
   "cell_type": "markdown",
   "metadata": {},
   "source": [
    "### Load an image from disk..."
   ]
  },
  {
   "cell_type": "code",
   "execution_count": null,
   "metadata": {},
   "outputs": [],
   "source": [
    "# read the image into a variable\n",
    "img = cv2.imread(os.path.join(IMAGE_DIR, 'thefan2.jpg'))\n",
    "\n",
    "# save its dimensions for later use\n",
    "rows, cols, _ = img.shape\n",
    "\n",
    "# convert it to grayscale\n",
    "img_gray = cv2.cvtColor(img, cv2.COLOR_BGR2GRAY)\n",
    "\n",
    "# display the image as currently loaded\n",
    "plt.figure(figsize=(8, 8), dpi=96)\n",
    "plt.imshow(img_gray, cmap='gray')\n",
    "plt.show()"
   ]
  },
  {
   "cell_type": "markdown",
   "metadata": {},
   "source": [
    "### Rotate the image 90 degrees clockwise..."
   ]
  },
  {
   "cell_type": "code",
   "execution_count": null,
   "metadata": {},
   "outputs": [],
   "source": [
    "# get rotation matrix (2D affine rotation) (cv2.getRotationMatrix2D((center), angle, scale))\n",
    "M = cv2.getRotationMatrix2D((cols/2, rows/2), -90, 1)\n",
    "\n",
    "# warp the image using the calculated matrix (cv2.warpAffine(source, transformation matrix, (output size))\n",
    "img_rot = cv2.warpAffine(img_gray, M, (cols, rows))\n",
    "\n",
    "# display the newly-rotated image\n",
    "plt.figure(figsize=(8, 8), dpi=96)\n",
    "plt.imshow(img_rot, cmap='gray')\n",
    "plt.show()"
   ]
  },
  {
   "cell_type": "markdown",
   "metadata": {},
   "source": [
    "### Transform the image perspective to be square... ish\n",
    "\n",
    "#### Currently the input points are found manually but it would be nice to do so programmatically for all images."
   ]
  },
  {
   "cell_type": "code",
   "execution_count": null,
   "metadata": {},
   "outputs": [],
   "source": [
    "# define the input and output image points to warp\n",
    "inpts = np.float32([[97, 30], [420, 56], [100, 400], [430, 376]])\n",
    "outpts = np.float32([[0, 0],[480, 0],[0, 480],[480, 480]])\n",
    "\n",
    "# calculate a perspective transform based on the points given above\n",
    "M = cv2.getPerspectiveTransform(inpts, outpts)\n",
    "\n",
    "# warp the image perspective with the perspective transform calculated above\n",
    "img_warp = cv2.warpPerspective(img_rot, M, (cols, rows))\n",
    "\n",
    "# display the warped image\n",
    "plt.figure(figsize=(8, 8), dpi=96)\n",
    "plt.imshow(img_warp, cmap='gray')\n",
    "plt.show()"
   ]
  },
  {
   "cell_type": "markdown",
   "metadata": {},
   "source": [
    "### Side by side warp comparison...\n",
    "\n",
    "#### The work is already done, this is just to show what the warp did."
   ]
  },
  {
   "cell_type": "code",
   "execution_count": null,
   "metadata": {},
   "outputs": [],
   "source": [
    "fig, axes = plt.subplots(1, 2, figsize=(18, 8), dpi=96)\n",
    "axes[0].imshow(img_rot, cmap='gray')\n",
    "for P in inpts:\n",
    "    axes[0].plot(P[0], P[1], 'ro')\n",
    "axes[0].plot([inpts[0,0], inpts[1,0], inpts[3,0], inpts[2,0], inpts[0,0]], [inpts[0,1], inpts[1,1], inpts[3,1], inpts[2,1], inpts[0,1]], 'r--')\n",
    "axes[0].set_title('Before warp:')\n",
    "axes[1].imshow(img_warp, cmap='gray', extent=(0, cols, rows, 0))\n",
    "for P in outpts:\n",
    "    axes[1].plot(P[0], P[1], 'ro')\n",
    "axes[1].plot([outpts[0,0], outpts[1,0], outpts[3,0], outpts[2,0], outpts[0,0]], [outpts[0,1], outpts[1,1], outpts[3,1], outpts[2,1], outpts[0,1]], 'r--')\n",
    "axes[1].set_title('After warp:')\n",
    "plt.show()"
   ]
  },
  {
   "cell_type": "markdown",
   "metadata": {},
   "source": [
    "### Split grid into separate images..."
   ]
  },
  {
   "cell_type": "code",
   "execution_count": null,
   "metadata": {},
   "outputs": [],
   "source": [
    "# create a figure to hold subplots for the split images\n",
    "fig1 = plt.figure(figsize=(8, 8), dpi=96)\n",
    "\n",
    "# create a list for the subplots which will be programmatically filled\n",
    "axes = []\n",
    "\n",
    "# create the 25 (5*5) subplots and put them in the list\n",
    "xdim = 5\n",
    "ydim = 5\n",
    "cellsize = int(rows / xdim) # each cell is 96x96 pixels (480/5)\n",
    "for row in range(0, ydim):\n",
    "    for col in range(0, xdim):\n",
    "        axes.append(plt.subplot2grid((xdim,ydim),(row,col)))\n",
    "\n",
    "# iterate through the list of subplots and draw them\n",
    "cur = 0\n",
    "onrow = 0\n",
    "oncol = 0\n",
    "for ax in axes:\n",
    "    ax.axis('off')\n",
    "    ax.set_title(\"%d, %d\" % (onrow, oncol))\n",
    "    # each subplot is a 96x96 slice of the warped image!\n",
    "    ax.imshow(img_warp[cellsize*onrow:cellsize*onrow+cellsize, cellsize*oncol:cellsize*oncol+cellsize], cmap='gray')\n",
    "    cur = cur + 1\n",
    "    if cur % xdim == 0:\n",
    "        onrow = onrow + 1\n",
    "    oncol = cur % xdim\n",
    "        \n",
    "plt.show()"
   ]
  }
 ],
 "metadata": {
  "kernelspec": {
   "display_name": "Python 3",
   "language": "python",
   "name": "python3"
  },
  "language_info": {
   "codemirror_mode": {
    "name": "ipython",
    "version": 3
   },
   "file_extension": ".py",
   "mimetype": "text/x-python",
   "name": "python",
   "nbconvert_exporter": "python",
   "pygments_lexer": "ipython3",
   "version": "3.5.4"
  }
 },
 "nbformat": 4,
 "nbformat_minor": 2
}
