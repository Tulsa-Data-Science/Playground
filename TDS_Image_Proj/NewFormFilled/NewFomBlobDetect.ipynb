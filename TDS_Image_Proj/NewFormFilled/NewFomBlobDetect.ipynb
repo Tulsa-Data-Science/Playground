{
 "cells": [
  {
   "cell_type": "code",
   "execution_count": null,
   "metadata": {},
   "outputs": [],
   "source": [
    "import cv2\n",
    "from matplotlib import pyplot as plt\n",
    "import numpy as np\n",
    "import os\n",
    "\n",
    "IMAGE_DIR = '/home/jaeger/dev/github.com/mhoush/Playground/TDS_Image_Proj/NewFom'\n",
    "IMAGE = 'thefan.jpg'"
   ]
  },
  {
   "cell_type": "code",
   "execution_count": null,
   "metadata": {},
   "outputs": [],
   "source": [
    "img = cv2.imread(os.path.join(IMAGE_DIR, IMAGE))\n",
    "\n",
    "rows, cols, channels = img.shape"
   ]
  },
  {
   "cell_type": "code",
   "execution_count": null,
   "metadata": {},
   "outputs": [],
   "source": [
    "is_v2 = cv2.__version__.startswith('2.')\n",
    "if is_v2:\n",
    "    detector = cv2.SimpleBlobDetector()\n",
    "else:\n",
    "    detector = cv2.SimpleBlobDetector_create()\n",
    "\n",
    "keypoints = detector.detect(img)\n",
    "\n",
    "img_kp = cv2.drawKeypoints(img, keypoints, np.array([]), (0, 255, 0), cv2.DRAW_MATCHES_FLAGS_DRAW_RICH_KEYPOINTS)"
   ]
  },
  {
   "cell_type": "code",
   "execution_count": null,
   "metadata": {},
   "outputs": [],
   "source": [
    "fig, axes = plt.subplots(1, 1, figsize=(8, 8), dpi=96)\n",
    "axes.clear()\n",
    "axes.imshow(img_kp)"
   ]
  },
  {
   "cell_type": "code",
   "execution_count": null,
   "metadata": {},
   "outputs": [],
   "source": [
    "inpts = np.float32([[kp.pt[0], kp.pt[1]] for kp in keypoints])\n",
    "#print(inpts)\n",
    "outpts = np.float32([[0, 0], [600, 0], [0, 600], [600, 600]])\n",
    "#print(outpts)\n",
    "\n",
    "M = cv2.getPerspectiveTransform(inpts, outpts)\n",
    "\n",
    "img_warp = cv2.warpPerspective(img_kp, M, (600, 600))\n",
    "\n",
    "fig, axes = plt.subplots(1, 1, figsize=(8, 8), dpi=100)\n",
    "axes.clear()\n",
    "axes.imshow(img_warp)"
   ]
  },
  {
   "cell_type": "code",
   "execution_count": null,
   "metadata": {},
   "outputs": [],
   "source": [
    "xdim = 5\n",
    "ydim = 5\n",
    "cellsize = int(600/5)\n",
    "\n",
    "for row in range(0, ydim):\n",
    "    for col in range(0, xdim):\n",
    "        outfile = 'thefan-out-%d-%d.jpg' % (row, col)\n",
    "        cv2.imwrite(os.path.join(IMAGE_DIR, outfile), img_warp[row*cellsize+50:row*cellsize+cellsize+50, col*cellsize])"
   ]
  }
 ],
 "metadata": {
  "kernelspec": {
   "display_name": "Python 3",
   "language": "python",
   "name": "python3"
  },
  "language_info": {
   "codemirror_mode": {
    "name": "ipython",
    "version": 3
   },
   "file_extension": ".py",
   "mimetype": "text/x-python",
   "name": "python",
   "nbconvert_exporter": "python",
   "pygments_lexer": "ipython3",
   "version": "3.5.4"
  }
 },
 "nbformat": 4,
 "nbformat_minor": 2
}
